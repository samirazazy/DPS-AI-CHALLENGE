{
  "cells": [
    {
      "cell_type": "code",
      "execution_count": 4,
      "metadata": {
        "id": "jF_8Xu_GxDNw"
      },
      "outputs": [],
      "source": [
        "# Import Packages\n",
        "import pandas as pd\n",
        "\n",
        "# Import Data Frame \n",
        "data = pd.read_csv(\"data/Monatszahlen-Verkehrsunfälle.csv\")"
      ]
    },
    {
      "cell_type": "code",
      "execution_count": 5,
      "metadata": {},
      "outputs": [
        {
          "data": {
            "text/html": [
              "<div>\n",
              "<style scoped>\n",
              "    .dataframe tbody tr th:only-of-type {\n",
              "        vertical-align: middle;\n",
              "    }\n",
              "\n",
              "    .dataframe tbody tr th {\n",
              "        vertical-align: top;\n",
              "    }\n",
              "\n",
              "    .dataframe thead th {\n",
              "        text-align: right;\n",
              "    }\n",
              "</style>\n",
              "<table border=\"1\" class=\"dataframe\">\n",
              "  <thead>\n",
              "    <tr style=\"text-align: right;\">\n",
              "      <th></th>\n",
              "      <th>Category</th>\n",
              "      <th>Accident_Type</th>\n",
              "      <th>Year</th>\n",
              "      <th>Month</th>\n",
              "      <th>Value</th>\n",
              "    </tr>\n",
              "  </thead>\n",
              "  <tbody>\n",
              "    <tr>\n",
              "      <th>0</th>\n",
              "      <td>Alkoholunfälle</td>\n",
              "      <td>insgesamt</td>\n",
              "      <td>2021</td>\n",
              "      <td>202101</td>\n",
              "      <td>NaN</td>\n",
              "    </tr>\n",
              "    <tr>\n",
              "      <th>1</th>\n",
              "      <td>Alkoholunfälle</td>\n",
              "      <td>insgesamt</td>\n",
              "      <td>2021</td>\n",
              "      <td>202102</td>\n",
              "      <td>NaN</td>\n",
              "    </tr>\n",
              "    <tr>\n",
              "      <th>2</th>\n",
              "      <td>Alkoholunfälle</td>\n",
              "      <td>insgesamt</td>\n",
              "      <td>2021</td>\n",
              "      <td>202103</td>\n",
              "      <td>NaN</td>\n",
              "    </tr>\n",
              "    <tr>\n",
              "      <th>3</th>\n",
              "      <td>Alkoholunfälle</td>\n",
              "      <td>insgesamt</td>\n",
              "      <td>2021</td>\n",
              "      <td>202104</td>\n",
              "      <td>NaN</td>\n",
              "    </tr>\n",
              "    <tr>\n",
              "      <th>4</th>\n",
              "      <td>Alkoholunfälle</td>\n",
              "      <td>insgesamt</td>\n",
              "      <td>2021</td>\n",
              "      <td>202105</td>\n",
              "      <td>NaN</td>\n",
              "    </tr>\n",
              "  </tbody>\n",
              "</table>\n",
              "</div>"
            ],
            "text/plain": [
              "         Category Accident_Type  Year   Month  Value\n",
              "0  Alkoholunfälle     insgesamt  2021  202101    NaN\n",
              "1  Alkoholunfälle     insgesamt  2021  202102    NaN\n",
              "2  Alkoholunfälle     insgesamt  2021  202103    NaN\n",
              "3  Alkoholunfälle     insgesamt  2021  202104    NaN\n",
              "4  Alkoholunfälle     insgesamt  2021  202105    NaN"
            ]
          },
          "execution_count": 5,
          "metadata": {},
          "output_type": "execute_result"
        }
      ],
      "source": [
        "#Select only important columns\n",
        "features = ['MONATSZAHL', 'AUSPRAEGUNG', 'JAHR', 'MONAT', 'WERT']\n",
        "#Make the data only the important columns\n",
        "data = data[features]\n",
        "# Rename the columns we will be working on \n",
        "data = data.rename( columns = { \n",
        "    'MONATSZAHL' : 'Category',\n",
        "    'AUSPRAEGUNG': 'Accident_Type',\n",
        "    'JAHR'       : 'Year',\n",
        "    'MONAT'      : 'Month',\n",
        "    'WERT'       : 'Value'\n",
        "})\n",
        "data.head()"
      ]
    },
    {
      "cell_type": "code",
      "execution_count": null,
      "metadata": {},
      "outputs": [],
      "source": []
    }
  ],
  "metadata": {
    "colab": {
      "collapsed_sections": [],
      "name": "DPS_AI (3).ipynb",
      "provenance": []
    },
    "interpreter": {
      "hash": "dafc184355dd83d76caba620be63c483589730f73cc92fab3a17ed41786ad43f"
    },
    "kernelspec": {
      "display_name": "Python 3.8.8 64-bit ('base': conda)",
      "name": "python3"
    },
    "language_info": {
      "codemirror_mode": {
        "name": "ipython",
        "version": 3
      },
      "file_extension": ".py",
      "mimetype": "text/x-python",
      "name": "python",
      "nbconvert_exporter": "python",
      "pygments_lexer": "ipython3",
      "version": "3.8.8"
    }
  },
  "nbformat": 4,
  "nbformat_minor": 0
}
